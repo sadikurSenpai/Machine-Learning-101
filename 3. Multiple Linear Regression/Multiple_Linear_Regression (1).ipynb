{
  "nbformat": 4,
  "nbformat_minor": 0,
  "metadata": {
    "colab": {
      "provenance": []
    },
    "kernelspec": {
      "name": "python3",
      "display_name": "Python 3"
    },
    "language_info": {
      "name": "python"
    }
  },
  "cells": [
    {
      "cell_type": "code",
      "source": [
        "import pandas as pd\n",
        "import numpy as np\n",
        "from sklearn.model_selection import train_test_split\n",
        "from sklearn.preprocessing import LabelEncoder, StandardScaler\n",
        "from sklearn.linear_model import LinearRegression\n",
        "from sklearn.metrics import mean_absolute_error\n",
        "\n",
        "df = pd.read_csv('/content/Housing.csv')\n",
        "\n",
        "df = df.drop(columns=[\"mainroad\", \"prefarea\", \"guestroom\", \"hotwaterheating\"])\n",
        "\n",
        "# Encoding categorical variables\n",
        "categorical_cols = [ \"basement\", \"airconditioning\", \"furnishingstatus\"]\n",
        "encoder = LabelEncoder()\n",
        "for col in categorical_cols:\n",
        "    df[col] = encoder.fit_transform(df[col])\n",
        "\n"
      ],
      "metadata": {
        "id": "uiw_nkFRRv4S"
      },
      "execution_count": null,
      "outputs": []
    },
    {
      "cell_type": "code",
      "source": [
        "df.sample(5)"
      ],
      "metadata": {
        "colab": {
          "base_uri": "https://localhost:8080/",
          "height": 206
        },
        "id": "QnMZitMNM9rV",
        "outputId": "64e56697-4dbc-4e51-910d-5de227e59d6b"
      },
      "execution_count": null,
      "outputs": [
        {
          "output_type": "execute_result",
          "data": {
            "text/plain": [
              "       price  area  bedrooms  bathrooms  stories  basement  airconditioning  \\\n",
              "61   7070000  8880         2          1        1         0                1   \n",
              "248  4543000  4100         2          2        1         1                0   \n",
              "489  2835000  3300         3          1        2         0                0   \n",
              "304  4193000  8250         3          1        1         1                0   \n",
              "300  4200000  4079         3          1        3         0                0   \n",
              "\n",
              "     parking  furnishingstatus  \n",
              "61         1                 1  \n",
              "248        0                 1  \n",
              "489        1                 1  \n",
              "304        3                 1  \n",
              "300        0                 1  "
            ],
            "text/html": [
              "\n",
              "  <div id=\"df-2f23eb67-1fe0-4f2a-b30e-6d6255715c9c\" class=\"colab-df-container\">\n",
              "    <div>\n",
              "<style scoped>\n",
              "    .dataframe tbody tr th:only-of-type {\n",
              "        vertical-align: middle;\n",
              "    }\n",
              "\n",
              "    .dataframe tbody tr th {\n",
              "        vertical-align: top;\n",
              "    }\n",
              "\n",
              "    .dataframe thead th {\n",
              "        text-align: right;\n",
              "    }\n",
              "</style>\n",
              "<table border=\"1\" class=\"dataframe\">\n",
              "  <thead>\n",
              "    <tr style=\"text-align: right;\">\n",
              "      <th></th>\n",
              "      <th>price</th>\n",
              "      <th>area</th>\n",
              "      <th>bedrooms</th>\n",
              "      <th>bathrooms</th>\n",
              "      <th>stories</th>\n",
              "      <th>basement</th>\n",
              "      <th>airconditioning</th>\n",
              "      <th>parking</th>\n",
              "      <th>furnishingstatus</th>\n",
              "    </tr>\n",
              "  </thead>\n",
              "  <tbody>\n",
              "    <tr>\n",
              "      <th>61</th>\n",
              "      <td>7070000</td>\n",
              "      <td>8880</td>\n",
              "      <td>2</td>\n",
              "      <td>1</td>\n",
              "      <td>1</td>\n",
              "      <td>0</td>\n",
              "      <td>1</td>\n",
              "      <td>1</td>\n",
              "      <td>1</td>\n",
              "    </tr>\n",
              "    <tr>\n",
              "      <th>248</th>\n",
              "      <td>4543000</td>\n",
              "      <td>4100</td>\n",
              "      <td>2</td>\n",
              "      <td>2</td>\n",
              "      <td>1</td>\n",
              "      <td>1</td>\n",
              "      <td>0</td>\n",
              "      <td>0</td>\n",
              "      <td>1</td>\n",
              "    </tr>\n",
              "    <tr>\n",
              "      <th>489</th>\n",
              "      <td>2835000</td>\n",
              "      <td>3300</td>\n",
              "      <td>3</td>\n",
              "      <td>1</td>\n",
              "      <td>2</td>\n",
              "      <td>0</td>\n",
              "      <td>0</td>\n",
              "      <td>1</td>\n",
              "      <td>1</td>\n",
              "    </tr>\n",
              "    <tr>\n",
              "      <th>304</th>\n",
              "      <td>4193000</td>\n",
              "      <td>8250</td>\n",
              "      <td>3</td>\n",
              "      <td>1</td>\n",
              "      <td>1</td>\n",
              "      <td>1</td>\n",
              "      <td>0</td>\n",
              "      <td>3</td>\n",
              "      <td>1</td>\n",
              "    </tr>\n",
              "    <tr>\n",
              "      <th>300</th>\n",
              "      <td>4200000</td>\n",
              "      <td>4079</td>\n",
              "      <td>3</td>\n",
              "      <td>1</td>\n",
              "      <td>3</td>\n",
              "      <td>0</td>\n",
              "      <td>0</td>\n",
              "      <td>0</td>\n",
              "      <td>1</td>\n",
              "    </tr>\n",
              "  </tbody>\n",
              "</table>\n",
              "</div>\n",
              "    <div class=\"colab-df-buttons\">\n",
              "\n",
              "  <div class=\"colab-df-container\">\n",
              "    <button class=\"colab-df-convert\" onclick=\"convertToInteractive('df-2f23eb67-1fe0-4f2a-b30e-6d6255715c9c')\"\n",
              "            title=\"Convert this dataframe to an interactive table.\"\n",
              "            style=\"display:none;\">\n",
              "\n",
              "  <svg xmlns=\"http://www.w3.org/2000/svg\" height=\"24px\" viewBox=\"0 -960 960 960\">\n",
              "    <path d=\"M120-120v-720h720v720H120Zm60-500h600v-160H180v160Zm220 220h160v-160H400v160Zm0 220h160v-160H400v160ZM180-400h160v-160H180v160Zm440 0h160v-160H620v160ZM180-180h160v-160H180v160Zm440 0h160v-160H620v160Z\"/>\n",
              "  </svg>\n",
              "    </button>\n",
              "\n",
              "  <style>\n",
              "    .colab-df-container {\n",
              "      display:flex;\n",
              "      gap: 12px;\n",
              "    }\n",
              "\n",
              "    .colab-df-convert {\n",
              "      background-color: #E8F0FE;\n",
              "      border: none;\n",
              "      border-radius: 50%;\n",
              "      cursor: pointer;\n",
              "      display: none;\n",
              "      fill: #1967D2;\n",
              "      height: 32px;\n",
              "      padding: 0 0 0 0;\n",
              "      width: 32px;\n",
              "    }\n",
              "\n",
              "    .colab-df-convert:hover {\n",
              "      background-color: #E2EBFA;\n",
              "      box-shadow: 0px 1px 2px rgba(60, 64, 67, 0.3), 0px 1px 3px 1px rgba(60, 64, 67, 0.15);\n",
              "      fill: #174EA6;\n",
              "    }\n",
              "\n",
              "    .colab-df-buttons div {\n",
              "      margin-bottom: 4px;\n",
              "    }\n",
              "\n",
              "    [theme=dark] .colab-df-convert {\n",
              "      background-color: #3B4455;\n",
              "      fill: #D2E3FC;\n",
              "    }\n",
              "\n",
              "    [theme=dark] .colab-df-convert:hover {\n",
              "      background-color: #434B5C;\n",
              "      box-shadow: 0px 1px 3px 1px rgba(0, 0, 0, 0.15);\n",
              "      filter: drop-shadow(0px 1px 2px rgba(0, 0, 0, 0.3));\n",
              "      fill: #FFFFFF;\n",
              "    }\n",
              "  </style>\n",
              "\n",
              "    <script>\n",
              "      const buttonEl =\n",
              "        document.querySelector('#df-2f23eb67-1fe0-4f2a-b30e-6d6255715c9c button.colab-df-convert');\n",
              "      buttonEl.style.display =\n",
              "        google.colab.kernel.accessAllowed ? 'block' : 'none';\n",
              "\n",
              "      async function convertToInteractive(key) {\n",
              "        const element = document.querySelector('#df-2f23eb67-1fe0-4f2a-b30e-6d6255715c9c');\n",
              "        const dataTable =\n",
              "          await google.colab.kernel.invokeFunction('convertToInteractive',\n",
              "                                                    [key], {});\n",
              "        if (!dataTable) return;\n",
              "\n",
              "        const docLinkHtml = 'Like what you see? Visit the ' +\n",
              "          '<a target=\"_blank\" href=https://colab.research.google.com/notebooks/data_table.ipynb>data table notebook</a>'\n",
              "          + ' to learn more about interactive tables.';\n",
              "        element.innerHTML = '';\n",
              "        dataTable['output_type'] = 'display_data';\n",
              "        await google.colab.output.renderOutput(dataTable, element);\n",
              "        const docLink = document.createElement('div');\n",
              "        docLink.innerHTML = docLinkHtml;\n",
              "        element.appendChild(docLink);\n",
              "      }\n",
              "    </script>\n",
              "  </div>\n",
              "\n",
              "\n",
              "<div id=\"df-4e7a44b8-c1b2-4891-ba4a-e11a8ffc6d30\">\n",
              "  <button class=\"colab-df-quickchart\" onclick=\"quickchart('df-4e7a44b8-c1b2-4891-ba4a-e11a8ffc6d30')\"\n",
              "            title=\"Suggest charts\"\n",
              "            style=\"display:none;\">\n",
              "\n",
              "<svg xmlns=\"http://www.w3.org/2000/svg\" height=\"24px\"viewBox=\"0 0 24 24\"\n",
              "     width=\"24px\">\n",
              "    <g>\n",
              "        <path d=\"M19 3H5c-1.1 0-2 .9-2 2v14c0 1.1.9 2 2 2h14c1.1 0 2-.9 2-2V5c0-1.1-.9-2-2-2zM9 17H7v-7h2v7zm4 0h-2V7h2v10zm4 0h-2v-4h2v4z\"/>\n",
              "    </g>\n",
              "</svg>\n",
              "  </button>\n",
              "\n",
              "<style>\n",
              "  .colab-df-quickchart {\n",
              "      --bg-color: #E8F0FE;\n",
              "      --fill-color: #1967D2;\n",
              "      --hover-bg-color: #E2EBFA;\n",
              "      --hover-fill-color: #174EA6;\n",
              "      --disabled-fill-color: #AAA;\n",
              "      --disabled-bg-color: #DDD;\n",
              "  }\n",
              "\n",
              "  [theme=dark] .colab-df-quickchart {\n",
              "      --bg-color: #3B4455;\n",
              "      --fill-color: #D2E3FC;\n",
              "      --hover-bg-color: #434B5C;\n",
              "      --hover-fill-color: #FFFFFF;\n",
              "      --disabled-bg-color: #3B4455;\n",
              "      --disabled-fill-color: #666;\n",
              "  }\n",
              "\n",
              "  .colab-df-quickchart {\n",
              "    background-color: var(--bg-color);\n",
              "    border: none;\n",
              "    border-radius: 50%;\n",
              "    cursor: pointer;\n",
              "    display: none;\n",
              "    fill: var(--fill-color);\n",
              "    height: 32px;\n",
              "    padding: 0;\n",
              "    width: 32px;\n",
              "  }\n",
              "\n",
              "  .colab-df-quickchart:hover {\n",
              "    background-color: var(--hover-bg-color);\n",
              "    box-shadow: 0 1px 2px rgba(60, 64, 67, 0.3), 0 1px 3px 1px rgba(60, 64, 67, 0.15);\n",
              "    fill: var(--button-hover-fill-color);\n",
              "  }\n",
              "\n",
              "  .colab-df-quickchart-complete:disabled,\n",
              "  .colab-df-quickchart-complete:disabled:hover {\n",
              "    background-color: var(--disabled-bg-color);\n",
              "    fill: var(--disabled-fill-color);\n",
              "    box-shadow: none;\n",
              "  }\n",
              "\n",
              "  .colab-df-spinner {\n",
              "    border: 2px solid var(--fill-color);\n",
              "    border-color: transparent;\n",
              "    border-bottom-color: var(--fill-color);\n",
              "    animation:\n",
              "      spin 1s steps(1) infinite;\n",
              "  }\n",
              "\n",
              "  @keyframes spin {\n",
              "    0% {\n",
              "      border-color: transparent;\n",
              "      border-bottom-color: var(--fill-color);\n",
              "      border-left-color: var(--fill-color);\n",
              "    }\n",
              "    20% {\n",
              "      border-color: transparent;\n",
              "      border-left-color: var(--fill-color);\n",
              "      border-top-color: var(--fill-color);\n",
              "    }\n",
              "    30% {\n",
              "      border-color: transparent;\n",
              "      border-left-color: var(--fill-color);\n",
              "      border-top-color: var(--fill-color);\n",
              "      border-right-color: var(--fill-color);\n",
              "    }\n",
              "    40% {\n",
              "      border-color: transparent;\n",
              "      border-right-color: var(--fill-color);\n",
              "      border-top-color: var(--fill-color);\n",
              "    }\n",
              "    60% {\n",
              "      border-color: transparent;\n",
              "      border-right-color: var(--fill-color);\n",
              "    }\n",
              "    80% {\n",
              "      border-color: transparent;\n",
              "      border-right-color: var(--fill-color);\n",
              "      border-bottom-color: var(--fill-color);\n",
              "    }\n",
              "    90% {\n",
              "      border-color: transparent;\n",
              "      border-bottom-color: var(--fill-color);\n",
              "    }\n",
              "  }\n",
              "</style>\n",
              "\n",
              "  <script>\n",
              "    async function quickchart(key) {\n",
              "      const quickchartButtonEl =\n",
              "        document.querySelector('#' + key + ' button');\n",
              "      quickchartButtonEl.disabled = true;  // To prevent multiple clicks.\n",
              "      quickchartButtonEl.classList.add('colab-df-spinner');\n",
              "      try {\n",
              "        const charts = await google.colab.kernel.invokeFunction(\n",
              "            'suggestCharts', [key], {});\n",
              "      } catch (error) {\n",
              "        console.error('Error during call to suggestCharts:', error);\n",
              "      }\n",
              "      quickchartButtonEl.classList.remove('colab-df-spinner');\n",
              "      quickchartButtonEl.classList.add('colab-df-quickchart-complete');\n",
              "    }\n",
              "    (() => {\n",
              "      let quickchartButtonEl =\n",
              "        document.querySelector('#df-4e7a44b8-c1b2-4891-ba4a-e11a8ffc6d30 button');\n",
              "      quickchartButtonEl.style.display =\n",
              "        google.colab.kernel.accessAllowed ? 'block' : 'none';\n",
              "    })();\n",
              "  </script>\n",
              "</div>\n",
              "\n",
              "    </div>\n",
              "  </div>\n"
            ],
            "application/vnd.google.colaboratory.intrinsic+json": {
              "type": "dataframe",
              "summary": "{\n  \"name\": \"df\",\n  \"rows\": 5,\n  \"fields\": [\n    {\n      \"column\": \"price\",\n      \"properties\": {\n        \"dtype\": \"number\",\n        \"std\": 1544341,\n        \"min\": 2835000,\n        \"max\": 7070000,\n        \"num_unique_values\": 5,\n        \"samples\": [\n          4543000,\n          4200000,\n          2835000\n        ],\n        \"semantic_type\": \"\",\n        \"description\": \"\"\n      }\n    },\n    {\n      \"column\": \"area\",\n      \"properties\": {\n        \"dtype\": \"number\",\n        \"std\": 2624,\n        \"min\": 3300,\n        \"max\": 8880,\n        \"num_unique_values\": 5,\n        \"samples\": [\n          4100,\n          4079,\n          3300\n        ],\n        \"semantic_type\": \"\",\n        \"description\": \"\"\n      }\n    },\n    {\n      \"column\": \"bedrooms\",\n      \"properties\": {\n        \"dtype\": \"number\",\n        \"std\": 0,\n        \"min\": 2,\n        \"max\": 3,\n        \"num_unique_values\": 2,\n        \"samples\": [\n          3,\n          2\n        ],\n        \"semantic_type\": \"\",\n        \"description\": \"\"\n      }\n    },\n    {\n      \"column\": \"bathrooms\",\n      \"properties\": {\n        \"dtype\": \"number\",\n        \"std\": 0,\n        \"min\": 1,\n        \"max\": 2,\n        \"num_unique_values\": 2,\n        \"samples\": [\n          2,\n          1\n        ],\n        \"semantic_type\": \"\",\n        \"description\": \"\"\n      }\n    },\n    {\n      \"column\": \"stories\",\n      \"properties\": {\n        \"dtype\": \"number\",\n        \"std\": 0,\n        \"min\": 1,\n        \"max\": 3,\n        \"num_unique_values\": 3,\n        \"samples\": [\n          1,\n          2\n        ],\n        \"semantic_type\": \"\",\n        \"description\": \"\"\n      }\n    },\n    {\n      \"column\": \"basement\",\n      \"properties\": {\n        \"dtype\": \"number\",\n        \"std\": 0,\n        \"min\": 0,\n        \"max\": 1,\n        \"num_unique_values\": 2,\n        \"samples\": [\n          1,\n          0\n        ],\n        \"semantic_type\": \"\",\n        \"description\": \"\"\n      }\n    },\n    {\n      \"column\": \"airconditioning\",\n      \"properties\": {\n        \"dtype\": \"number\",\n        \"std\": 0,\n        \"min\": 0,\n        \"max\": 1,\n        \"num_unique_values\": 2,\n        \"samples\": [\n          0,\n          1\n        ],\n        \"semantic_type\": \"\",\n        \"description\": \"\"\n      }\n    },\n    {\n      \"column\": \"parking\",\n      \"properties\": {\n        \"dtype\": \"number\",\n        \"std\": 1,\n        \"min\": 0,\n        \"max\": 3,\n        \"num_unique_values\": 3,\n        \"samples\": [\n          1,\n          0\n        ],\n        \"semantic_type\": \"\",\n        \"description\": \"\"\n      }\n    },\n    {\n      \"column\": \"furnishingstatus\",\n      \"properties\": {\n        \"dtype\": \"number\",\n        \"std\": 0,\n        \"min\": 1,\n        \"max\": 1,\n        \"num_unique_values\": 1,\n        \"samples\": [\n          1\n        ],\n        \"semantic_type\": \"\",\n        \"description\": \"\"\n      }\n    }\n  ]\n}"
            }
          },
          "metadata": {},
          "execution_count": 3
        }
      ]
    },
    {
      "cell_type": "code",
      "source": [
        "# Splitting data into features and target variable\n",
        "X = df.drop(columns=[\"price\"]).values\n",
        "y = df[\"price\"].values\n",
        "\n",
        "\n",
        "# Splitting dataset into training and testing sets\n",
        "X_train, X_test, y_train, y_test = train_test_split(X, y, test_size=0.1, random_state=42)\n",
        "X_test"
      ],
      "metadata": {
        "colab": {
          "base_uri": "https://localhost:8080/"
        },
        "id": "6GrsH8trOWoV",
        "outputId": "b130da54-fe89-46b2-b307-327ab57e3981"
      },
      "execution_count": null,
      "outputs": [
        {
          "output_type": "execute_result",
          "data": {
            "text/plain": [
              "array([[ 5900,     4,     2,     2,     1,     0,     1,     2],\n",
              "       [ 6500,     3,     2,     3,     0,     1,     0,     0],\n",
              "       [ 4040,     2,     1,     1,     0,     0,     0,     1],\n",
              "       [ 5000,     3,     1,     2,     0,     1,     0,     1],\n",
              "       [ 3960,     3,     1,     1,     0,     0,     0,     0],\n",
              "       [ 6720,     3,     1,     1,     0,     0,     0,     2],\n",
              "       [ 8520,     3,     1,     1,     0,     1,     2,     0],\n",
              "       [ 4990,     4,     2,     2,     1,     0,     0,     0],\n",
              "       [ 3240,     2,     1,     1,     0,     0,     1,     2],\n",
              "       [ 2700,     3,     1,     1,     0,     0,     0,     0],\n",
              "       [ 8580,     4,     3,     4,     0,     1,     2,     1],\n",
              "       [ 3934,     2,     1,     1,     0,     0,     0,     2],\n",
              "       [ 3720,     2,     1,     1,     0,     1,     0,     2],\n",
              "       [ 3100,     3,     1,     2,     1,     0,     0,     1],\n",
              "       [ 3970,     3,     1,     2,     1,     0,     0,     2],\n",
              "       [ 3630,     3,     3,     2,     0,     0,     0,     2],\n",
              "       [ 2000,     2,     1,     2,     0,     0,     0,     1],\n",
              "       [ 6000,     3,     1,     2,     0,     1,     1,     2],\n",
              "       [ 5850,     3,     1,     2,     1,     0,     1,     2],\n",
              "       [ 6000,     2,     1,     1,     0,     0,     0,     1],\n",
              "       [ 5020,     3,     1,     4,     0,     1,     0,     2],\n",
              "       [ 6825,     3,     1,     1,     1,     1,     0,     1],\n",
              "       [ 3649,     2,     1,     1,     0,     0,     0,     2],\n",
              "       [ 3800,     3,     1,     2,     1,     0,     1,     2],\n",
              "       [ 8250,     3,     1,     1,     1,     0,     3,     1],\n",
              "       [ 9960,     3,     2,     2,     1,     0,     2,     1],\n",
              "       [ 3090,     2,     1,     1,     1,     0,     0,     2],\n",
              "       [ 3000,     3,     2,     2,     1,     0,     0,     0],\n",
              "       [13200,     3,     1,     2,     1,     1,     2,     0],\n",
              "       [ 3000,     2,     1,     2,     0,     0,     0,     0],\n",
              "       [ 4000,     3,     2,     2,     1,     1,     0,     1],\n",
              "       [ 3120,     3,     1,     2,     0,     0,     1,     2],\n",
              "       [ 6000,     3,     2,     3,     0,     1,     0,     0],\n",
              "       [ 6615,     3,     1,     2,     0,     0,     0,     1],\n",
              "       [ 4775,     4,     1,     2,     0,     0,     0,     2],\n",
              "       [ 4600,     3,     2,     2,     0,     1,     1,     1],\n",
              "       [ 4646,     3,     1,     2,     1,     0,     2,     1],\n",
              "       [ 3180,     4,     1,     2,     1,     1,     0,     2],\n",
              "       [ 3480,     3,     1,     1,     0,     1,     0,     2],\n",
              "       [ 2787,     4,     2,     2,     0,     0,     0,     0],\n",
              "       [ 7980,     3,     1,     1,     0,     0,     2,     1],\n",
              "       [ 3630,     2,     1,     1,     0,     1,     0,     2],\n",
              "       [ 6420,     3,     2,     3,     0,     1,     0,     0],\n",
              "       [ 4200,     3,     1,     2,     0,     0,     1,     0],\n",
              "       [ 6750,     2,     1,     1,     0,     0,     0,     1],\n",
              "       [ 5885,     2,     1,     1,     0,     1,     1,     2],\n",
              "       [ 6000,     3,     2,     4,     0,     1,     0,     1],\n",
              "       [ 4640,     4,     1,     2,     0,     0,     1,     1],\n",
              "       [ 8050,     2,     1,     1,     0,     0,     0,     2],\n",
              "       [ 3000,     2,     1,     1,     1,     0,     2,     2],\n",
              "       [ 7475,     3,     2,     4,     0,     1,     2,     2],\n",
              "       [ 3000,     2,     1,     1,     0,     0,     1,     2],\n",
              "       [ 7770,     2,     1,     1,     0,     0,     1,     0],\n",
              "       [ 4500,     3,     1,     2,     1,     1,     0,     1],\n",
              "       [ 3640,     4,     1,     2,     1,     0,     0,     2]])"
            ]
          },
          "metadata": {},
          "execution_count": 4
        }
      ]
    },
    {
      "cell_type": "code",
      "source": [
        "# Scaling numerical features\n",
        "scaler = StandardScaler()\n",
        "X_train = scaler.fit_transform(X_train)\n",
        "X_test = scaler.transform(X_test)\n",
        "\n",
        "\n",
        "# Applying Linear Regression\n",
        "model = LinearRegression()\n",
        "model.fit(X_train, y_train)\n",
        "\n",
        "# Predictions\n",
        "y_pred = model.predict(X_test)\n",
        "\n",
        "# Evaluating model performance\n",
        "mae = mean_absolute_error(y_test, y_pred)\n",
        "mae\n"
      ],
      "metadata": {
        "colab": {
          "base_uri": "https://localhost:8080/"
        },
        "id": "CMlGDU0AMaLN",
        "outputId": "7b3c15ca-3a43-490a-d5e6-4a0b6a35f19f"
      },
      "execution_count": null,
      "outputs": [
        {
          "output_type": "execute_result",
          "data": {
            "text/plain": [
              "932528.935213145"
            ]
          },
          "metadata": {},
          "execution_count": 5
        }
      ]
    },
    {
      "cell_type": "code",
      "source": [
        "model.coef_"
      ],
      "metadata": {
        "colab": {
          "base_uri": "https://localhost:8080/"
        },
        "id": "fCJYEvlUNcZu",
        "outputId": "8c346246-fa04-4f50-e3cc-214ea77e8ec3"
      },
      "execution_count": null,
      "outputs": [
        {
          "output_type": "execute_result",
          "data": {
            "text/plain": [
              "array([ 592326.26266596,   77021.85268177,  521572.7698521 ,\n",
              "        429000.10182916,  292315.26610096,  368152.80812609,\n",
              "        250841.66679207, -198168.23462145])"
            ]
          },
          "metadata": {},
          "execution_count": 6
        }
      ]
    },
    {
      "cell_type": "code",
      "source": [
        "model.intercept_"
      ],
      "metadata": {
        "colab": {
          "base_uri": "https://localhost:8080/"
        },
        "id": "RKM0-VDVrc56",
        "outputId": "735286ef-afe4-4176-e64a-0f1a43a0f186"
      },
      "execution_count": null,
      "outputs": [
        {
          "output_type": "execute_result",
          "data": {
            "text/plain": [
              "4791534.571428572"
            ]
          },
          "metadata": {},
          "execution_count": 7
        }
      ]
    },
    {
      "cell_type": "code",
      "source": [
        "y_hat = 4791534.571428572 + (592326.26266596*0.3461539) + (77021.85268177*1.37042373) + 521572.7698521 *1.43149584 + 429000.10182916*0.22293775 + 292315.26610096*1.3536506 + 368152.80812609*-0.67059984 + 250841.66679207*0.33709075 + (-198168.23462145*1.25107266)\n",
        "y_hat"
      ],
      "metadata": {
        "colab": {
          "base_uri": "https://localhost:8080/"
        },
        "id": "MaYTlPISr1io",
        "outputId": "9954dd54-9421-4888-e830-6c347278c341"
      },
      "execution_count": null,
      "outputs": [
        {
          "output_type": "execute_result",
          "data": {
            "text/plain": [
              "5929835.826015247"
            ]
          },
          "metadata": {},
          "execution_count": 19
        }
      ]
    },
    {
      "cell_type": "code",
      "source": [
        "model.predict(X_test)"
      ],
      "metadata": {
        "colab": {
          "base_uri": "https://localhost:8080/"
        },
        "id": "BT-A1dtcrkuC",
        "outputId": "ecdbfc44-9fa7-4f6f-b0ca-27e1ba186dc6"
      },
      "execution_count": null,
      "outputs": [
        {
          "output_type": "execute_result",
          "data": {
            "text/plain": [
              "array([5929835.82408789, 6902857.3080749 , 3038326.01214491,\n",
              "       4692651.74533701, 3382115.42344511, 3610358.38672515,\n",
              "       6001560.12542992, 5916585.12951394, 2847422.12719213,\n",
              "       3038352.68605947, 9429254.25487869, 2747025.72572536,\n",
              "       3484514.14241924, 3990044.45924423, 3965023.88051387,\n",
              "       5351185.78940434, 2975060.46795996, 4992837.48522085,\n",
              "       4767678.44549702, 3573068.04807812, 5422333.12724913,\n",
              "       5308897.9743257 , 2669269.86845956, 4208381.92832197,\n",
              "       5771019.94791381, 7486400.00154968, 3128397.86940564,\n",
              "       5270423.21371967, 8383334.45951648, 3510268.6013817 ,\n",
              "       6076743.73554086, 3411220.56894668, 6766443.52339805,\n",
              "       4337394.75330763, 3676246.51440923, 5918540.39953651,\n",
              "       4991313.35066147, 4648598.67004047, 3522270.57855479,\n",
              "       4703907.38201299, 4795979.1573753 , 3459959.66117741,\n",
              "       6881031.1025266 , 4230635.47198478, 3777688.72509338,\n",
              "       4364924.56466818, 6997365.65662655, 4191534.09121278,\n",
              "       3869984.0011851 , 3683320.85736026, 7716883.22655162,\n",
              "       2781943.51054725, 4608092.14450042, 5167876.57287495,\n",
              "       3978225.83540759])"
            ]
          },
          "metadata": {},
          "execution_count": 18
        }
      ]
    },
    {
      "cell_type": "code",
      "source": [
        "X_test"
      ],
      "metadata": {
        "colab": {
          "base_uri": "https://localhost:8080/"
        },
        "id": "hwaoAmzzNuJG",
        "outputId": "a35406e4-9880-4278-b318-1e9a4bba8079"
      },
      "execution_count": null,
      "outputs": [
        {
          "output_type": "execute_result",
          "data": {
            "text/plain": [
              "array([[ 0.3461539 ,  1.37042373,  1.43149584,  0.22293775,  1.3536506 ,\n",
              "        -0.67059984,  0.33709075,  1.25107266],\n",
              "       [ 0.62251602,  0.03008914,  1.43149584,  1.37282722, -0.73874307,\n",
              "         1.49120227, -0.81797546, -1.3969861 ],\n",
              "       [-0.51056868, -1.31024544, -0.57259833, -0.92695171, -0.73874307,\n",
              "        -0.67059984, -0.81797546, -0.07295672],\n",
              "       [-0.06838928,  0.03008914, -0.57259833,  0.22293775, -0.73874307,\n",
              "         1.49120227, -0.81797546, -0.07295672],\n",
              "       [-0.54741696,  0.03008914, -0.57259833, -0.92695171, -0.73874307,\n",
              "        -0.67059984, -0.81797546, -1.3969861 ],\n",
              "       [ 0.72384879,  0.03008914, -0.57259833, -0.92695171, -0.73874307,\n",
              "        -0.67059984, -0.81797546,  1.25107266],\n",
              "       [ 1.55293515,  0.03008914, -0.57259833, -0.92695171, -0.73874307,\n",
              "         1.49120227,  1.49215697, -1.3969861 ],\n",
              "       [-0.07299532,  1.37042373,  1.43149584,  0.22293775,  1.3536506 ,\n",
              "        -0.67059984, -0.81797546, -1.3969861 ],\n",
              "       [-0.8790515 , -1.31024544, -0.57259833, -0.92695171, -0.73874307,\n",
              "        -0.67059984,  0.33709075,  1.25107266],\n",
              "       [-1.12777741,  0.03008914, -0.57259833, -0.92695171, -0.73874307,\n",
              "        -0.67059984, -0.81797546, -1.3969861 ],\n",
              "       [ 1.58057136,  1.37042373,  3.43559001,  2.52271668, -0.73874307,\n",
              "         1.49120227,  1.49215697, -0.07295672],\n",
              "       [-0.55939265, -1.31024544, -0.57259833, -0.92695171, -0.73874307,\n",
              "        -0.67059984, -0.81797546,  1.25107266],\n",
              "       [-0.65796181, -1.31024544, -0.57259833, -0.92695171, -0.73874307,\n",
              "         1.49120227, -0.81797546,  1.25107266],\n",
              "       [-0.943536  ,  0.03008914, -0.57259833,  0.22293775,  1.3536506 ,\n",
              "        -0.67059984, -0.81797546, -0.07295672],\n",
              "       [-0.54281092,  0.03008914, -0.57259833,  0.22293775,  1.3536506 ,\n",
              "        -0.67059984, -0.81797546,  1.25107266],\n",
              "       [-0.69941612,  0.03008914,  3.43559001,  0.22293775, -0.73874307,\n",
              "        -0.67059984, -0.81797546,  1.25107266],\n",
              "       [-1.45019988, -1.31024544, -0.57259833,  0.22293775, -0.73874307,\n",
              "        -0.67059984, -0.81797546, -0.07295672],\n",
              "       [ 0.39221425,  0.03008914, -0.57259833,  0.22293775, -0.73874307,\n",
              "         1.49120227,  0.33709075,  1.25107266],\n",
              "       [ 0.32312372,  0.03008914, -0.57259833,  0.22293775,  1.3536506 ,\n",
              "        -0.67059984,  0.33709075,  1.25107266],\n",
              "       [ 0.39221425, -1.31024544, -0.57259833, -0.92695171, -0.73874307,\n",
              "        -0.67059984, -0.81797546, -0.07295672],\n",
              "       [-0.05917721,  0.03008914, -0.57259833,  2.52271668, -0.73874307,\n",
              "         1.49120227, -0.81797546,  1.25107266],\n",
              "       [ 0.77221216,  0.03008914, -0.57259833, -0.92695171,  1.3536506 ,\n",
              "         1.49120227, -0.81797546, -0.07295672],\n",
              "       [-0.69066466, -1.31024544, -0.57259833, -0.92695171, -0.73874307,\n",
              "        -0.67059984, -0.81797546,  1.25107266],\n",
              "       [-0.62111352,  0.03008914, -0.57259833,  0.22293775,  1.3536506 ,\n",
              "        -0.67059984,  0.33709075,  1.25107266],\n",
              "       [ 1.4285722 ,  0.03008914, -0.57259833, -0.92695171,  1.3536506 ,\n",
              "        -0.67059984,  2.64722318, -0.07295672],\n",
              "       [ 2.21620424,  0.03008914,  1.43149584,  0.22293775,  1.3536506 ,\n",
              "        -0.67059984,  1.49215697, -0.07295672],\n",
              "       [-0.94814203, -1.31024544, -0.57259833, -0.92695171,  1.3536506 ,\n",
              "        -0.67059984, -0.81797546,  1.25107266],\n",
              "       [-0.98959635,  0.03008914,  1.43149584,  0.22293775,  1.3536506 ,\n",
              "        -0.67059984, -0.81797546, -1.3969861 ],\n",
              "       [ 3.70855969,  0.03008914, -0.57259833,  0.22293775,  1.3536506 ,\n",
              "         1.49120227,  1.49215697, -1.3969861 ],\n",
              "       [-0.98959635, -1.31024544, -0.57259833,  0.22293775, -0.73874307,\n",
              "        -0.67059984, -0.81797546, -1.3969861 ],\n",
              "       [-0.52899282,  0.03008914,  1.43149584,  0.22293775,  1.3536506 ,\n",
              "         1.49120227, -0.81797546, -0.07295672],\n",
              "       [-0.93432393,  0.03008914, -0.57259833,  0.22293775, -0.73874307,\n",
              "        -0.67059984,  0.33709075,  1.25107266],\n",
              "       [ 0.39221425,  0.03008914,  1.43149584,  1.37282722, -0.73874307,\n",
              "         1.49120227, -0.81797546, -1.3969861 ],\n",
              "       [ 0.67548542,  0.03008914, -0.57259833,  0.22293775, -0.73874307,\n",
              "        -0.67059984, -0.81797546, -0.07295672],\n",
              "       [-0.17202508,  1.37042373, -0.57259833,  0.22293775, -0.73874307,\n",
              "        -0.67059984, -0.81797546,  1.25107266],\n",
              "       [-0.2526307 ,  0.03008914,  1.43149584,  0.22293775, -0.73874307,\n",
              "         1.49120227,  0.33709075, -0.07295672],\n",
              "       [-0.23144294,  0.03008914, -0.57259833,  0.22293775,  1.3536506 ,\n",
              "        -0.67059984,  1.49215697, -0.07295672],\n",
              "       [-0.90668771,  1.37042373, -0.57259833,  0.22293775,  1.3536506 ,\n",
              "         1.49120227, -0.81797546,  1.25107266],\n",
              "       [-0.76850665,  0.03008914, -0.57259833, -0.92695171, -0.73874307,\n",
              "         1.49120227, -0.81797546,  1.25107266],\n",
              "       [-1.0877049 ,  1.37042373,  1.43149584,  0.22293775, -0.73874307,\n",
              "        -0.67059984, -0.81797546, -1.3969861 ],\n",
              "       [ 1.30420924,  0.03008914, -0.57259833, -0.92695171, -0.73874307,\n",
              "        -0.67059984,  1.49215697, -0.07295672],\n",
              "       [-0.69941612, -1.31024544, -0.57259833, -0.92695171, -0.73874307,\n",
              "         1.49120227, -0.81797546,  1.25107266],\n",
              "       [ 0.58566773,  0.03008914,  1.43149584,  1.37282722, -0.73874307,\n",
              "         1.49120227, -0.81797546, -1.3969861 ],\n",
              "       [-0.43687211,  0.03008914, -0.57259833,  0.22293775, -0.73874307,\n",
              "        -0.67059984,  0.33709075, -1.3969861 ],\n",
              "       [ 0.7376669 , -1.31024544, -0.57259833, -0.92695171, -0.73874307,\n",
              "        -0.67059984, -0.81797546, -0.07295672],\n",
              "       [ 0.33924484, -1.31024544, -0.57259833, -0.92695171, -0.73874307,\n",
              "         1.49120227,  0.33709075,  1.25107266],\n",
              "       [ 0.39221425,  0.03008914,  1.43149584,  2.52271668, -0.73874307,\n",
              "         1.49120227, -0.81797546, -0.07295672],\n",
              "       [-0.23420656,  1.37042373, -0.57259833,  0.22293775, -0.73874307,\n",
              "        -0.67059984,  0.33709075, -0.07295672],\n",
              "       [ 1.33645149, -1.31024544, -0.57259833, -0.92695171, -0.73874307,\n",
              "        -0.67059984, -0.81797546,  1.25107266],\n",
              "       [-0.98959635, -1.31024544, -0.57259833, -0.92695171,  1.3536506 ,\n",
              "        -0.67059984,  1.49215697,  1.25107266],\n",
              "       [ 1.07160446,  0.03008914,  1.43149584,  2.52271668, -0.73874307,\n",
              "         1.49120227,  1.49215697,  1.25107266],\n",
              "       [-0.98959635, -1.31024544, -0.57259833, -0.92695171, -0.73874307,\n",
              "        -0.67059984,  0.33709075,  1.25107266],\n",
              "       [ 1.2074825 , -1.31024544, -0.57259833, -0.92695171, -0.73874307,\n",
              "        -0.67059984,  0.33709075, -1.3969861 ],\n",
              "       [-0.29869105,  0.03008914, -0.57259833,  0.22293775,  1.3536506 ,\n",
              "         1.49120227, -0.81797546, -0.07295672],\n",
              "       [-0.69481009,  1.37042373, -0.57259833,  0.22293775,  1.3536506 ,\n",
              "        -0.67059984, -0.81797546,  1.25107266]])"
            ]
          },
          "metadata": {},
          "execution_count": 8
        }
      ]
    },
    {
      "cell_type": "code",
      "source": [
        "result = np.dot(X_test[0], model.coef_) + model.intercept_"
      ],
      "metadata": {
        "id": "3hcN0_vjQdim"
      },
      "execution_count": null,
      "outputs": []
    },
    {
      "cell_type": "code",
      "source": [
        "result"
      ],
      "metadata": {
        "colab": {
          "base_uri": "https://localhost:8080/"
        },
        "id": "T8syp3ZUQvUv",
        "outputId": "118e2dba-9d23-4d8f-d23f-941020620d52"
      },
      "execution_count": null,
      "outputs": [
        {
          "output_type": "execute_result",
          "data": {
            "text/plain": [
              "5929835.824087889"
            ]
          },
          "metadata": {},
          "execution_count": 10
        }
      ]
    },
    {
      "cell_type": "code",
      "source": [
        "class GUBRegression:\n",
        "  def __init__(self):\n",
        "    self.beta = None\n",
        "    self.coef_ = None\n",
        "    self.intercept_ = None\n",
        "\n",
        "  def fit(self, X_train, y_train):\n",
        "    X_train = np.insert(X_train,0,1,axis=1)\n",
        "    self.beta = np.dot(np.linalg.inv(np.dot(X_train.T, X_train)), np.dot(X_train.T, y_train))\n",
        "    self.intercept_ = self.beta[0]\n",
        "    self.coef_ = self.beta[1:]\n",
        "\n",
        "  def predict(self,X_test):\n",
        "      y_pred = np.dot(X_test,self.coef_) + self.intercept_\n",
        "      return y_pred"
      ],
      "metadata": {
        "id": "q9jt7uZDQv8G"
      },
      "execution_count": null,
      "outputs": []
    },
    {
      "cell_type": "code",
      "source": [
        "model1 = GUBRegression()"
      ],
      "metadata": {
        "id": "vyNfUjrY1iKB"
      },
      "execution_count": null,
      "outputs": []
    },
    {
      "cell_type": "code",
      "source": [
        "model1.fit(X_train, y_train)"
      ],
      "metadata": {
        "id": "_rAQQmwH2W3M"
      },
      "execution_count": null,
      "outputs": []
    },
    {
      "cell_type": "code",
      "source": [
        "y_pred1 = model1.predict(X_test)"
      ],
      "metadata": {
        "id": "0Huvkn3i2ZVk"
      },
      "execution_count": null,
      "outputs": []
    },
    {
      "cell_type": "code",
      "source": [
        "y_pred1[0]"
      ],
      "metadata": {
        "colab": {
          "base_uri": "https://localhost:8080/"
        },
        "id": "y5jTtV-L3Of0",
        "outputId": "47b067ef-3043-4386-8e34-6fded835bfa6"
      },
      "execution_count": null,
      "outputs": [
        {
          "output_type": "execute_result",
          "data": {
            "text/plain": [
              "5929835.824087888"
            ]
          },
          "metadata": {},
          "execution_count": 15
        }
      ]
    },
    {
      "cell_type": "code",
      "source": [
        "y_pred[0]"
      ],
      "metadata": {
        "colab": {
          "base_uri": "https://localhost:8080/"
        },
        "id": "CkuZiXWB3uPL",
        "outputId": "034fdac5-9a5a-46bb-8cfa-6acaff70bffb"
      },
      "execution_count": null,
      "outputs": [
        {
          "output_type": "execute_result",
          "data": {
            "text/plain": [
              "5929835.824087889"
            ]
          },
          "metadata": {},
          "execution_count": 16
        }
      ]
    },
    {
      "cell_type": "code",
      "source": [],
      "metadata": {
        "id": "elYCnlDn32Er"
      },
      "execution_count": null,
      "outputs": []
    }
  ]
}